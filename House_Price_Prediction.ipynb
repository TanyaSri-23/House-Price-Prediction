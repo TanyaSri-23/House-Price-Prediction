{
  "nbformat": 4,
  "nbformat_minor": 0,
  "metadata": {
    "colab": {
      "name": "House Price Prediction",
      "provenance": [],
      "collapsed_sections": []
    },
    "kernelspec": {
      "name": "python3",
      "display_name": "Python 3"
    },
    "language_info": {
      "name": "python"
    }
  },
  "cells": [
    {
      "cell_type": "code",
      "metadata": {
        "colab": {
          "base_uri": "https://localhost:8080/"
        },
        "id": "uQ7gr8l_yYFj",
        "outputId": "10db495d-3c2d-410d-d51b-e35bc3999021"
      },
      "source": [
        "from google.colab import drive\n",
        "drive.mount('/content/drive')"
      ],
      "execution_count": 172,
      "outputs": [
        {
          "output_type": "stream",
          "text": [
            "Drive already mounted at /content/drive; to attempt to forcibly remount, call drive.mount(\"/content/drive\", force_remount=True).\n"
          ],
          "name": "stdout"
        }
      ]
    },
    {
      "cell_type": "code",
      "metadata": {
        "id": "xRkzIZaPycZI"
      },
      "source": [
        "import numpy as np\n",
        "import pandas as pd "
      ],
      "execution_count": 173,
      "outputs": []
    },
    {
      "cell_type": "code",
      "metadata": {
        "id": "gZGnZaKryk7z"
      },
      "source": [
        "houseData = pd.read_csv('/content/drive/MyDrive/HousingData/train.csv')\n",
        "houseData = pd.DataFrame(houseData)"
      ],
      "execution_count": 174,
      "outputs": []
    },
    {
      "cell_type": "code",
      "metadata": {
        "id": "5RpsggJ7RC2N"
      },
      "source": [
        "houseData = houseData.drop(['Id','YearBuilt','YearRemodAdd', 'MoSold', 'YrSold','MSZoning','Street','ExterQual','LotShape','LandContour','Utilities','LandSlope','Neighborhood','Condition1','Condition2','BldgType','Exterior1st','RoofStyle','RoofMatl','Exterior2nd','MasVnrType','ExterCond','Foundation','BsmtQual','BsmtCond','BsmtExposure','BsmtFinType1','BsmtFinType2','Heating','CentralAir','Electrical','KitchenQual','Functional','FireplaceQu','GarageType','GarageFinish','GarageQual','GarageCond','PavedDrive','PoolQC','Fence','MiscFeature','SaleType','SaleCondition','LotConfig','HeatingQC','Alley','HouseStyle'] ,axis =1)\n",
        "houseData = houseData.dropna()"
      ],
      "execution_count": 175,
      "outputs": []
    },
    {
      "cell_type": "code",
      "metadata": {
        "id": "houKDYc6y0Up"
      },
      "source": [
        "houseData = houseData.to_numpy()"
      ],
      "execution_count": 176,
      "outputs": []
    },
    {
      "cell_type": "code",
      "metadata": {
        "id": "Z-qMB_syy1ME"
      },
      "source": [
        "X = np.ones((1121,1),dtype = np.int ) #biasing\n",
        "X.reshape(1121,1)\n",
        "x = np.array(houseData[:,:-1])\n",
        "Y = np.array([houseData[:, -1]])\n",
        "x_test = np.array(houseData[:785, :-1])\n",
        "X_test = np.ones((785,1),dtype = np.int )\n",
        "Y_test = np.array([houseData[:785, -1]])"
      ],
      "execution_count": 177,
      "outputs": []
    },
    {
      "cell_type": "code",
      "metadata": {
        "colab": {
          "base_uri": "https://localhost:8080/"
        },
        "id": "RkLsQJti9gaM",
        "outputId": "548ff261-fc6f-42bf-84d7-33c2375be765"
      },
      "source": [
        "Y = Y.T\n",
        "Y.shape"
      ],
      "execution_count": 178,
      "outputs": [
        {
          "output_type": "execute_result",
          "data": {
            "text/plain": [
              "(1121, 1)"
            ]
          },
          "metadata": {
            "tags": []
          },
          "execution_count": 178
        }
      ]
    },
    {
      "cell_type": "code",
      "metadata": {
        "id": "P1eZRmXxIKOE"
      },
      "source": [
        "def mean(x):\n",
        "    mean_ = np.mean(x,axis=0)\n",
        "    std = np.std(x,axis =0)\n",
        "    return (x-mean_)/std"
      ],
      "execution_count": 179,
      "outputs": []
    },
    {
      "cell_type": "code",
      "metadata": {
        "id": "RN1Rputu0PtV"
      },
      "source": [
        "x = mean(x)"
      ],
      "execution_count": 180,
      "outputs": []
    },
    {
      "cell_type": "code",
      "metadata": {
        "id": "ruEV8xOneZ2F"
      },
      "source": [
        "mean_y = np.mean(Y)\n",
        "std_y = np.std(Y)\n",
        "Y = (Y - mean_y)/std_y"
      ],
      "execution_count": 181,
      "outputs": []
    },
    {
      "cell_type": "code",
      "metadata": {
        "id": "Pip5KKhW0RRn"
      },
      "source": [
        "mean_test = np.mean(x_test,axis =0)\n",
        "std_test = np.std(x_test,axis =0)\n",
        "x_test = (x_test-mean_test)/std"
      ],
      "execution_count": 182,
      "outputs": []
    },
    {
      "cell_type": "code",
      "metadata": {
        "id": "UzCzNJs0fO8V"
      },
      "source": [
        "X = np.append(X,x,axis =1)\n",
        "X_test = np.append(X_test,x_test,axis =1)\n",
        "Y_test =  np.array([houseData[:785, -1]])"
      ],
      "execution_count": 183,
      "outputs": []
    },
    {
      "cell_type": "code",
      "metadata": {
        "id": "BPQvCiGRPluj"
      },
      "source": [
        "t = np.zeros((1,33), dtype = np.int) #intialising parameters\n",
        "Y = Y.T"
      ],
      "execution_count": 184,
      "outputs": []
    },
    {
      "cell_type": "code",
      "metadata": {
        "id": "1BqO2LogwnIk"
      },
      "source": [
        "def hypo(X,t): #calculating predicted house prices\n",
        "    return np.dot(t, X.T)"
      ],
      "execution_count": 185,
      "outputs": []
    },
    {
      "cell_type": "code",
      "metadata": {
        "id": "l-mtQ0Ku3cmf"
      },
      "source": [
        "def cost_func(X,Y,t):\n",
        "    sum =0.0\n",
        "    pre = hypo(X,t)-Y\n",
        "    cost =  (np.sum(pre**2))/(2*34)\n",
        "    return cost"
      ],
      "execution_count": 186,
      "outputs": []
    },
    {
      "cell_type": "code",
      "metadata": {
        "id": "NOfOLNeFBmp7"
      },
      "source": [
        "def gradient_func(X,t,Y, iterations ):\n",
        "    ft = X.shape[1]\n",
        "    alpha = 0.0001\n",
        "    cost = []\n",
        "    cost_old = cost_func(X,Y,t)\n",
        "    cost.append(cost_old)\n",
        "    i=0\n",
        "    while i<iterations:\n",
        "        pre_ = hypo(X,t)\n",
        "        pre_ = pre_ - Y\n",
        "        gr = np.dot(pre_, X)\n",
        "        t = t - (alpha/ft)*gr\n",
        "        pre = cost_func(X,Y,t)\n",
        "        cost.append(pre)\n",
        "        print(\"iteration :\",i)\n",
        "        print(\"cost:\",cost[i])\n",
        "        print(\"-----------------------------------------------\")\n",
        "\n",
        "        i+=1\n",
        "    return cost, t"
      ],
      "execution_count": 187,
      "outputs": []
    },
    {
      "cell_type": "code",
      "metadata": {
        "id": "H68ewoMgJtQa"
      },
      "source": [
        "cost,t  = gradient_func(X,t,Y,1000)"
      ],
      "execution_count": null,
      "outputs": []
    },
    {
      "cell_type": "code",
      "metadata": {
        "id": "_yedSYvf7xKe"
      },
      "source": [
        "h = hypo(t,X)\n",
        "z2 = np.sum((Y.T-h)**2)\n",
        "z3 =np.sum((mean_y-h)**2)"
      ],
      "execution_count": 189,
      "outputs": []
    },
    {
      "cell_type": "code",
      "metadata": {
        "colab": {
          "base_uri": "https://localhost:8080/"
        },
        "id": "QYuz0M4f-DK8",
        "outputId": "c4b5a929-abf3-4d19-9a78-d7e4ee6b97cd"
      },
      "source": [
        "r_square = 1 - (z2/z3)\n",
        "r_square"
      ],
      "execution_count": 190,
      "outputs": [
        {
          "output_type": "execute_result",
          "data": {
            "text/plain": [
              "0.9999999999942697"
            ]
          },
          "metadata": {
            "tags": []
          },
          "execution_count": 190
        }
      ]
    }
  ]
}